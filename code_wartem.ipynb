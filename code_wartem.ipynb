{
 "cells": [
  {
   "cell_type": "code",
   "execution_count": null,
   "metadata": {
    "colab": {
     "base_uri": "https://localhost:8080/"
    },
    "executionInfo": {
     "elapsed": 1797,
     "status": "ok",
     "timestamp": 1615380994263,
     "user": {
      "displayName": "Abilasha S cs18e005",
      "photoUrl": "",
      "userId": "00612437745214680730"
     },
     "user_tz": -330
    },
    "id": "6n3ioJVpxFuT",
    "outputId": "0935b70e-4414-4f25-fb72-ef9e8e3f9853"
   },
   "outputs": [
    {
     "name": "stdout",
     "output_type": "stream",
     "text": [
      "TensorFlow 1.x selected.\n"
     ]
    }
   ],
   "source": [
    "import time"
   ]
  },
  {
   "cell_type": "markdown",
   "metadata": {
    "id": "o1arj2W5GF0T"
   },
   "source": [
    "# **SEQ**"
   ]
  },
  {
   "cell_type": "code",
   "execution_count": null,
   "metadata": {
    "colab": {
     "base_uri": "https://localhost:8080/"
    },
    "id": "Nsq2mV1Q7LD_",
    "outputId": "e6369ba4-9f0b-43bc-e6b7-feab2bfc9953"
   },
   "outputs": [
    {
     "name": "stdout",
     "output_type": "stream",
     "text": [
      "Using TensorFlow backend.\n"
     ]
    }
   ],
   "source": [
    "start_time = time.time()\n",
    "!python /code/dict_to_yaml.py\n",
    "!python /code/driver.py -n 1 -w copy -f ToeSegmentation2_warp\n",
    "print(\"--- %s seconds ---\" % (time.time() - start_time))\n",
    "!python /code/extract_representations.py ToeSegmentation2_warp copy 0\n",
    "print(\"--- %s seconds ---\" % (time.time() - start_time))\n",
    "# !python /code/reconstruct.py ToeSegmentation2_warp copy 0"
   ]
  },
  {
   "cell_type": "code",
   "execution_count": null,
   "metadata": {
    "id": "MX_9l-nfsVuf"
   },
   "outputs": [],
   "source": [
    "start_time = time.time()\n",
    "!python /code/dict_to_yaml.py\n",
    "!python /code/driver.py -n 1 -w copy_interpolation -f ToeSegmentation2_warp\n",
    "print(\"--- %s seconds ---\" % (time.time() - start_time))\n",
    "!python /code/extract_representations.py ToeSegmentation2_warp copy_interpolation 0\n",
    "print(\"--- %s seconds ---\" % (time.time() - start_time))\n",
    "# !python /code/reconstruct.py ToeSegmentation2_warp copy_interpolation 0"
   ]
  },
  {
   "cell_type": "code",
   "execution_count": null,
   "metadata": {
    "id": "lFa9fUm_scP7"
   },
   "outputs": [],
   "source": [
    "start_time = time.time()\n",
    "!python /code/dict_to_yaml.py\n",
    "!python /code/driver.py -n 1 -w interpolation -f ToeSegmentation2_warp\n",
    "print(\"--- %s seconds ---\" % (time.time() - start_time))\n",
    "!python /code/extract_representations.py ToeSegmentation2_warp interpolation 0\n",
    "print(\"--- %s seconds ---\" % (time.time() - start_time))\n",
    "# !python /code/reconstruct.py ToeSegmentation2_warp interpolation 0"
   ]
  },
  {
   "cell_type": "markdown",
   "metadata": {
    "id": "16PeHe5Vsn4T"
   },
   "source": [
    "**Point**"
   ]
  },
  {
   "cell_type": "code",
   "execution_count": null,
   "metadata": {
    "id": "po5-o5Tisnb4"
   },
   "outputs": [],
   "source": [
    "start_time = time.time()\n",
    "!python /code/dict_to_yaml.py\n",
    "!python /code/driver.py -n 1 -w interpolation -f speed_7578_warp\n",
    "print(\"--- %s seconds ---\" % (time.time() - start_time))\n",
    "!python /code/extract_representations.py speed_7578_warp interpolation 0\n",
    "print(\"--- %s seconds ---\" % (time.time() - start_time))\n",
    "# !python /code/reconstruct.py speed_7578_warp interpolation 0"
   ]
  },
  {
   "cell_type": "markdown",
   "metadata": {
    "id": "Utwywwv4y6AX"
   },
   "source": [
    "### Sub-seq"
   ]
  },
  {
   "cell_type": "code",
   "execution_count": null,
   "metadata": {},
   "outputs": [],
   "source": [
    "start_time = time.time()\n",
    "!python /code/dict_to_yaml.py\n",
    "!python /code/driver.py -n 1 -w copy -f Marotta_Valve_Tek_17_warp\n",
    "print(\"--- %s seconds ---\" % (time.time() - start_time))\n",
    "!python /code/extract_representations.py Maroatta_Valve_Tek_17_warp copy 0\n",
    "print(\"--- %s seconds ---\" % (time.time() - start_time))\n",
    "# !python /code/reconstruct.py Marotta_Valve_Tek_17_warp copy 0"
   ]
  }
 ],
 "metadata": {
  "accelerator": "GPU",
  "colab": {
   "collapsed_sections": [],
   "name": "code_for_anomaly_experiment_seq1.ipynb",
   "provenance": []
  },
  "kernelspec": {
   "display_name": "Python 3",
   "language": "python",
   "name": "python3"
  },
  "language_info": {
   "codemirror_mode": {
    "name": "ipython",
    "version": 3
   },
   "file_extension": ".py",
   "mimetype": "text/x-python",
   "name": "python",
   "nbconvert_exporter": "python",
   "pygments_lexer": "ipython3",
   "version": "3.7.3"
  }
 },
 "nbformat": 4,
 "nbformat_minor": 1
}
